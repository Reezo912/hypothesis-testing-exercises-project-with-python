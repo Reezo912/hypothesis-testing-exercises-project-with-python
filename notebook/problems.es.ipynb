{
 "cells": [
  {
   "cell_type": "markdown",
   "id": "d9d036c6",
   "metadata": {},
   "source": [
    "# Problemas de prueba de hipótesis"
   ]
  },
  {
   "cell_type": "markdown",
   "id": "d157c4db",
   "metadata": {},
   "source": [
    "## Ejercicio 1\n",
    "\n",
    "Usted es un nutricionista que investiga dos tipos diferentes de dietas para ver si existe una diferencia significativa en la pérdida de peso después de un mes. Eliges dos grupos aleatorios de personas; un grupo sigue la primera dieta y el otro sigue la segunda. Al final del mes, se registra la pérdida de peso (en kg) de cada persona:\n",
    "\n",
    "| Diet 1 | Diet 2 |\n",
    "|:-------|:-------|\n",
    "| 2.0 | 3.0 |\n",
    "| 2.5 | 3.2 |\n",
    "| 3.0 | 3.1 |\n",
    "| 2.8 | 2.9 |\n",
    "| 2.3 | 2.8 |\n",
    "| 2.7 | 3.0 |\n",
    "| 2.5 | 3.2 |\n",
    "\n",
    "Con estos datos se busca responder a la siguiente pregunta: ¿Existe una diferencia significativa en la pérdida de peso promedio entre las personas que siguieron la primera dieta y las que siguieron la segunda dieta?\n",
    "\n",
    "Para sacar conclusiones, siga los siguientes puntos:\n",
    "\n",
    "-Enunciar la hipótesis: hipótesis nula y alternativa.\n",
    "-Realizar la prueba para comprobar la hipótesis. Puede utilizar la prueba t de Student.\n",
    "-Analizar las conclusiones."
   ]
  },
  {
   "cell_type": "code",
   "execution_count": 2,
   "id": "8e0f3cf0",
   "metadata": {},
   "outputs": [
    {
     "name": "stdout",
     "output_type": "stream",
     "text": [
      "El tvalue es -3.5383407969933938\n",
      "El pvalue es 0.004083270191713912\n"
     ]
    }
   ],
   "source": [
    "# TODO\n",
    "\n",
    "# Hipotesis nula : las dietas tienen el mismo rendimiento en la pérdida de peso\n",
    "# Hipotesis alternativa : las dietas tienen distinto rendimiento en la pérdida de peso\n",
    "# Nivel de significancia : 0.05\n",
    "\n",
    "import numpy as np\n",
    "import scipy.stats as stats\n",
    "\n",
    "diet_1 = [2.0, 2.5, 3.0, 2.8, 2.3, 2.7, 2.5]\n",
    "diet_2 = [3.0, 3.2, 3.1, 2.9, 2.8, 3.0, 3.2]\n",
    "\n",
    "mean_diet_1 = np.mean(diet_1)\n",
    "mean_diet_2 = np.mean(diet_2)\n",
    "\n",
    "tvalue, pvalue = stats.ttest_ind(diet_1, diet_2)\n",
    "\n",
    "print(f\"El tvalue es {tvalue}\")\n",
    "print(f\"El pvalue es {pvalue}\")\n",
    "\n",
    "# Al ser un pvalue menor al 0.05, consideramos que la hipotesis nula es incorrecta y la descartamos"
   ]
  },
  {
   "cell_type": "markdown",
   "id": "f432e18e",
   "metadata": {},
   "source": [
    "## ANOVA\n",
    "\n",
    "**ANOVA** (*Analysis of Variance - Análisis de variación*) Es una técnica estadística utilizada para comparar las medidas de dos o más grupos. La idea detrás de ANOVA es descomponer la variabilidad total de los datos en dos componentes: variabilidad entre grupos y variabilidad dentro de los grupos:\n",
    "\n",
    "- **Variabilidad entre grupos**: Esta variabilidad se refiere a las diferencias entre las medias del grupo. Si esta variabilidad es considerablemente mayor que la variabilidad dentro del grupo, podría ser una indicación de que al menos una de las medias del grupo es diferente.\n",
    "- **Variabilidad dentro del grupo**: Esta variabilidad se refiere a la dispersión de los datos dentro de cada grupo. Si todos los grupos tienen una variabilidad similar, entonces cualquier diferencia notable en las medias de los grupos podría considerarse significativa.\n",
    "\n",
    "Las hipótesis en ANOVA suelen incluir:\n",
    "\n",
    "- **Hipótesis nula** ($H₀$): Las medias de todos los grupos son iguales.\n",
    "- **Hipótesis alternativa** ($H₁$): Al menos una de las medias del grupo es diferente.\n",
    "\n",
    "Si el resultado de la prueba ANOVA es significativo (por ejemplo, un valor p inferior a un umbral como 0,05), esto sugiere que al menos la media de un grupo es diferente."
   ]
  },
  {
   "cell_type": "markdown",
   "id": "fc5f3721",
   "metadata": {},
   "source": [
    "## Ejercicio 2\n",
    "\n",
    "Un agricultor decide probar tres tipos diferentes de fertilizantes para determinar si alguno es superior en términos de producción de maíz. El agricultor planta maíz en 15 parcelas idénticas y utiliza los tres fertilizantes (5 parcelas para cada tipo). Al final de la temporada mide el rendimiento de maíz (en kg) de cada parcela, con el siguiente resultado:\n",
    "\n",
    "| Fertilizante 1 | Fertilizante 2 | Fertilizante 3 |\n",
    "|:-------------|:-------------|:-------------|\n",
    "| 20 | 22 | 24 |\n",
    "| 21 | 21 | 23 |\n",
    "| 20 | 23 | 22 |\n",
    "| 19 | 22 | 23 |\n",
    "| 20 | 21 | 24 |\n",
    "\n",
    "Con estos datos busca responder la siguiente pregunta: ¿Existe una diferencia significativa en el rendimiento promedio del maíz entre los tres tipos de fertilizantes?\n",
    "\n",
    "Para ayudarte, sigue los siguientes puntos:\n",
    "\n",
    "-Enunciar la hipótesis: hipótesis nula y alternativa.\n",
    "-Realizar la prueba ANOVA.\n",
    "-Analizar las conclusiones.\n",
    "-Si un fertilizante es mejor que otro, ¿cómo podemos saberlo?"
   ]
  },
  {
   "cell_type": "code",
   "execution_count": null,
   "id": "eecad0ca",
   "metadata": {},
   "outputs": [
    {
     "name": "stdout",
     "output_type": "stream",
     "text": [
      "El pvalue es de: 0.00014047824793190472\n",
      "El mejor fertilizante es Fertilizante 3 con una media de 23.20\n",
      "       Multiple Comparison of Means - Tukey HSD, FWER=0.05        \n",
      "==================================================================\n",
      "    group1         group2     meandiff p-adj  lower  upper  reject\n",
      "------------------------------------------------------------------\n",
      "Fertilizante 1 Fertilizante 2      1.8 0.0099 0.4572 3.1428   True\n",
      "Fertilizante 1 Fertilizante 3      3.2 0.0001 1.8572 4.5428   True\n",
      "Fertilizante 2 Fertilizante 3      1.4 0.0409 0.0572 2.7428   True\n",
      "------------------------------------------------------------------\n"
     ]
    }
   ],
   "source": [
    "# TODO\n",
    "\n",
    "# Hipotesis nula :  Los 3 fertilizantes tienen el mismo rendimiento\n",
    "# Hipotesis alternativa : Al menos uno de los fertilizantes tiene un rendimiento distinto\n",
    "# Nivel de significancia = 0.05\n",
    "\n",
    "fertilizante1 = [20, 21, 20, 19, 20]\n",
    "fertilizante2 = [22, 21, 23, 22, 21]\n",
    "fertilizante3 = [24, 23, 22, 23, 24]\n",
    "\n",
    "_, pvalue = stats.f_oneway(fertilizante1, fertilizante2, fertilizante3)\n",
    "\n",
    "print(f'El pvalue es de: {pvalue}')\n",
    "\n",
    "# El pvalue es menor que el nivel de significancia, por lo tanto descartamos la hipotesis nula. Los fertilizantes tienen un \n",
    "# rendimiento distinto entre ellos\n",
    "\n",
    "media_fertilizante1 = np.mean(fertilizante1)\n",
    "media_fertilizante2 = np.mean(fertilizante2)\n",
    "media_fertilizante3 = np.mean(fertilizante3)\n",
    "\n",
    "medias = {\n",
    "    \"Fertilizante 1\": media_fertilizante1,\n",
    "    \"Fertilizante 2\": media_fertilizante2,\n",
    "    \"Fertilizante 3\": media_fertilizante3\n",
    "}\n",
    "\n",
    "mejor_fertilizante = max(medias, key = medias.get)\n",
    "\n",
    "print(f\"El mejor fertilizante es {mejor_fertilizante} con una media de {medias[mejor_fertilizante]:.2f}\")\n",
    "\n",
    "\n",
    "# Metodo Tukey honest significant difference\n",
    "\n",
    "from statsmodels.stats.multicomp import pairwise_tukeyhsd\n",
    "\n",
    "# Crear una lista combinada y etiquetas\n",
    "datos = fertilizante1 + fertilizante2 + fertilizante3\n",
    "grupos = ([\"Fertilizante 1\"] * len(fertilizante1) + \n",
    "          [\"Fertilizante 2\"] * len(fertilizante2) + \n",
    "          [\"Fertilizante 3\"] * len(fertilizante3))\n",
    "\n",
    "# Realizar el test de Tukey\n",
    "tukey = pairwise_tukeyhsd(endog=datos, groups=grupos, alpha=0.05)\n",
    "print(tukey)"
   ]
  }
 ],
 "metadata": {
  "kernelspec": {
   "display_name": "Python 3",
   "language": "python",
   "name": "python3"
  },
  "language_info": {
   "codemirror_mode": {
    "name": "ipython",
    "version": 3
   },
   "file_extension": ".py",
   "mimetype": "text/x-python",
   "name": "python",
   "nbconvert_exporter": "python",
   "pygments_lexer": "ipython3",
   "version": "3.11.9"
  }
 },
 "nbformat": 4,
 "nbformat_minor": 5
}
